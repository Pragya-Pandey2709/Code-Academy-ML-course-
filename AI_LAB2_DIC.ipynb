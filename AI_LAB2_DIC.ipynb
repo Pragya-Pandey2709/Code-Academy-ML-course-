{
  "cells": [
    {
      "cell_type": "markdown",
      "metadata": {
        "id": "view-in-github",
        "colab_type": "text"
      },
      "source": [
        "<a href=\"https://colab.research.google.com/github/Pragya-Pandey2709/Code-Academy-ML-course-/blob/main/AI_LAB2_DIC.ipynb\" target=\"_parent\"><img src=\"https://colab.research.google.com/assets/colab-badge.svg\" alt=\"Open In Colab\"/></a>"
      ]
    },
    {
      "cell_type": "code",
      "execution_count": null,
      "id": "local-poland",
      "metadata": {
        "id": "local-poland",
        "outputId": "59364756-7b6a-431e-d312-560c8da24a6f",
        "colab": {
          "base_uri": "https://localhost:8080/"
        }
      },
      "outputs": [
        {
          "output_type": "stream",
          "name": "stdout",
          "text": [
            "{'brand': 'Ford', 'model': 'Mustang', 'year': 1964}\n",
            "Mustang\n",
            "Ford\n",
            "{'brand': 'Ford', 'model': 'Mustang', 'year': 2018}\n"
          ]
        }
      ],
      "source": [
        "# Dictionary\n",
        "# Create a dictionary\n",
        "\n",
        "thisdict = {\n",
        "  \"brand\": \"Ford\",\n",
        "  \"model\": \"Mustang\",\n",
        "  \"year\": 1964\n",
        "}\n",
        "print(thisdict)\n",
        "# Accessing elements\n",
        "# get the value of the model key\n",
        "\n",
        "X= thisdict.get(\"model\")\n",
        "print(X)\n",
        "\n",
        "# another Method\n",
        "X= thisdict[\"brand\"]\n",
        "print(X)\n",
        "\n",
        "# Change Values of a specific item by referring to its key name\n",
        "# Change the year to 2018\n",
        "thisdict[\"year\"] =2018\n",
        "print(thisdict)"
      ]
    },
    {
      "cell_type": "code",
      "execution_count": null,
      "id": "closed-market",
      "metadata": {
        "id": "closed-market",
        "outputId": "60f80f81-16f1-4d9d-ea95-604848cb175d",
        "colab": {
          "base_uri": "https://localhost:8080/"
        }
      },
      "outputs": [
        {
          "output_type": "stream",
          "name": "stdout",
          "text": [
            "3\n",
            "Yes, 'model' is one of the keys in the thisdict dictionary\n",
            "{'brand': 'Ford', 'year': 2018}\n",
            "{'year': 2018}\n",
            "{'year': 2018, 'color': 'red', 'model': 'mustang', 'brand': 'ford'}\n",
            "{'d': 6, 'c': 4, 'a': 10, 'b': 8}\n",
            "{'a': 10, 'b': 8}\n"
          ]
        }
      ],
      "source": [
        "# Dictionart length using len() function\n",
        "print(len((thisdict)))\n",
        "\n",
        "#remove an item from a dictionary if it is present.\n",
        "# check if item is present \n",
        "if \"model\" in thisdict:\n",
        "  print(\"Yes, 'model' is one of the keys in the thisdict dictionary\")\n",
        "# removing item using pop()\n",
        "thisdict.pop(\"model\")\n",
        "print(thisdict)\n",
        "\n",
        "# del method to delete\n",
        "del thisdict[\"brand\"]\n",
        "print(thisdict)\n",
        "\n",
        "# Add a key to a dictionary.\n",
        "thisdict[\"color\"] = \"red\"\n",
        "thisdict[\"model\"] = \"mustang\"\n",
        "thisdict[\"brand\"] = \"ford\"\n",
        "print(thisdict)\n",
        "\n",
        "# concatenate  dictionaries to create a new one.\n",
        "def Merge(dict1, dict2): \n",
        "    return(dict2.update(dict1)) \n",
        "      \n",
        "# Driver code \n",
        "dict1 = {'a': 10, 'b': 8} \n",
        "dict2 = {'d': 6, 'c': 4} \n",
        "  \n",
        "# This return None \n",
        "Merge(dict1, dict2) \n",
        "  \n",
        "# changes made in dict2 \n",
        "print(dict2) \n",
        "print(dict1)"
      ]
    }
  ],
  "metadata": {
    "kernelspec": {
      "display_name": "Python 3",
      "language": "python",
      "name": "python3"
    },
    "language_info": {
      "codemirror_mode": {
        "name": "ipython",
        "version": 3
      },
      "file_extension": ".py",
      "mimetype": "text/x-python",
      "name": "python",
      "nbconvert_exporter": "python",
      "pygments_lexer": "ipython3",
      "version": "3.9.1"
    },
    "colab": {
      "provenance": [],
      "include_colab_link": true
    }
  },
  "nbformat": 4,
  "nbformat_minor": 5
}