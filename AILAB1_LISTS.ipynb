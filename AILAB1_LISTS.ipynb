{
  "nbformat": 4,
  "nbformat_minor": 0,
  "metadata": {
    "colab": {
      "provenance": [],
      "authorship_tag": "ABX9TyOjfL/fiHfPQ1rVNJeTIKXT",
      "include_colab_link": true
    },
    "kernelspec": {
      "name": "python3",
      "display_name": "Python 3"
    },
    "language_info": {
      "name": "python"
    }
  },
  "cells": [
    {
      "cell_type": "markdown",
      "metadata": {
        "id": "view-in-github",
        "colab_type": "text"
      },
      "source": [
        "<a href=\"https://colab.research.google.com/github/Pragya-Pandey2709/Code-Academy-ML-course-/blob/main/AILAB1_LISTS.ipynb\" target=\"_parent\"><img src=\"https://colab.research.google.com/assets/colab-badge.svg\" alt=\"Open In Colab\"/></a>"
      ]
    },
    {
      "cell_type": "code",
      "source": [
        "#TO FIND MAX NUMBER FROM A LIST\n",
        "a=[]\n",
        "while True:\n",
        "    x=input(\"enter a number:\")\n",
        "    if x==\"/0\":\n",
        "        break\n",
        "    a.append(int(x))\n",
        "print(\"max of the list is:\",max(a))3"
      ],
      "metadata": {
        "colab": {
          "base_uri": "https://localhost:8080/"
        },
        "id": "OBvCGXv-gXE_",
        "outputId": "f57f43ac-d1ab-4b94-8574-bd2a85be4f32"
      },
      "execution_count": null,
      "outputs": [
        {
          "output_type": "stream",
          "name": "stdout",
          "text": [
            "enter a number:12\n",
            "enter a number:74\n",
            "enter a number:48\n",
            "enter a number:4\n",
            "enter a number:/0\n",
            "max of the list is: 74\n"
          ]
        }
      ]
    },
    {
      "cell_type": "code",
      "source": [
        "#TO PERFORM VARIOUS OPERATIOSN ON LIST\n",
        "a=[]\n",
        "b=[\"a\",\"b\"]\n",
        "p=1\n",
        "while True:\n",
        "    x=input(\"enter a number:\")\n",
        "    if x==\"/0\":\n",
        "        break\n",
        "    a.append(int(x))\n",
        "for i in a:\n",
        "    p=p*i\n",
        "print(\"product of the list is:\",p)\n",
        "print(\"concatenate list is:\",a+b)\n",
        "print(\"repeat list is:\",a*3)\n",
        "a.append(5)\n",
        "print(\"append list is:\",a)\n",
        "a.sort()\n",
        "print(\"sort list is:\",a)\n",
        "a.extend(b)\n",
        "print(\"extend list is:\",a)"
      ],
      "metadata": {
        "id": "Jj8XBiHGgs8_",
        "colab": {
          "base_uri": "https://localhost:8080/"
        },
        "outputId": "16ba1c8b-5c52-4526-eaa3-a154497fc432"
      },
      "execution_count": null,
      "outputs": [
        {
          "output_type": "stream",
          "name": "stdout",
          "text": [
            "enter a number:12\n",
            "enter a number:2\n",
            "enter a number:44\n",
            "enter a number:54\n",
            "enter a number:3\n",
            "enter a number:4432\n",
            "enter a number:/0\n",
            "product of the list is: 758191104\n",
            "concatenate list is: [12, 2, 44, 54, 3, 4432, 'a', 'b']\n",
            "repeat list is: [12, 2, 44, 54, 3, 4432, 12, 2, 44, 54, 3, 4432, 12, 2, 44, 54, 3, 4432]\n",
            "append list is: [12, 2, 44, 54, 3, 4432, 5]\n",
            "sort list is: [2, 3, 5, 12, 44, 54, 4432]\n",
            "extend list is: [2, 3, 5, 12, 44, 54, 4432, 'a', 'b']\n"
          ]
        }
      ]
    },
    {
      "cell_type": "code",
      "source": [
        "#addition of list elements \n",
        "a=[]\n",
        "while True:\n",
        "    x=input(\"enter a number:\")\n",
        "    if x==\"/0\":\n",
        "        break\n",
        "    a.append(int(x))\n",
        "print(\"sum of the list is:\",sum(a))"
      ],
      "metadata": {
        "id": "Vw6BlmOkhB2O",
        "colab": {
          "base_uri": "https://localhost:8080/"
        },
        "outputId": "fddaa44f-c4d6-45a0-e167-e543fa3d4f34"
      },
      "execution_count": null,
      "outputs": [
        {
          "output_type": "stream",
          "name": "stdout",
          "text": [
            "enter a number:3\n",
            "enter a number:43\n",
            "enter a number:23\n",
            "enter a number:3\n",
            "enter a number:2\n",
            "enter a number:/0\n",
            "sum of the list is: 74\n"
          ]
        }
      ]
    },
    {
      "cell_type": "code",
      "source": [
        "#python sets\n",
        "a=set()\n",
        "a.add(1)\n",
        "a.add(2)\n",
        "print(a)\n",
        "a.update([2,4,5])\n",
        "print(a)\n",
        "a.discard(2)\n",
        "print(a)"
      ],
      "metadata": {
        "id": "OX-r6YD5hHa6",
        "colab": {
          "base_uri": "https://localhost:8080/"
        },
        "outputId": "46fdd551-acbe-46c5-a31e-a633aa70bafd"
      },
      "execution_count": null,
      "outputs": [
        {
          "output_type": "stream",
          "name": "stdout",
          "text": [
            "{1, 2}\n",
            "{1, 2, 4, 5}\n",
            "{1, 4, 5}\n"
          ]
        }
      ]
    }
  ]
}